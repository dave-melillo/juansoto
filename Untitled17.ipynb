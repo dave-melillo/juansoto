{
 "cells": [
  {
   "cell_type": "code",
   "execution_count": 1,
   "id": "4f41cfcd-80de-4556-8c8b-bb551a0bd5db",
   "metadata": {},
   "outputs": [],
   "source": [
    "import hashlib "
   ]
  },
  {
   "cell_type": "code",
   "execution_count": 2,
   "id": "5fcfcecb-55d2-4ee4-94e5-8e91a781e948",
   "metadata": {},
   "outputs": [],
   "source": [
    "#Create a new sha object by using the hashlib library.\n",
    "\n"
   ]
  },
  {
   "cell_type": "code",
   "execution_count": 8,
   "id": "10a9b736-b0df-4e12-91e0-39441a69f609",
   "metadata": {},
   "outputs": [
    {
     "name": "stdout",
     "output_type": "stream",
     "text": [
      "dcd63a4388e0c83bc908071aaef38decf37c1b1e0ab3e633c37d467f1ec6b2ad\n"
     ]
    }
   ],
   "source": [
    "my_data = \"The Quick Brown Fox\"\n",
    "\n",
    "#Encode the text string with the Python encode function.\n",
    "encoded_data = my_data.encode()\n",
    "\n",
    "#Create a new sha object by using the hashlib library.\n",
    "sha = hashlib.sha256()\n",
    "\n",
    "#Update the sha object with the encoded data.\n",
    "sha.update(encoded_data)\n",
    "\n",
    "#Return the unique hash (the fingerprint) of the data via the hexdigest function.\n",
    "print(sha.hexdigest())"
   ]
  },
  {
   "cell_type": "code",
   "execution_count": null,
   "id": "ce3068cd-83a3-46a1-82b1-d82e1baabcf8",
   "metadata": {},
   "outputs": [],
   "source": []
  },
  {
   "cell_type": "code",
   "execution_count": null,
   "id": "547c1492-4df0-4b64-8256-8227457b45f7",
   "metadata": {},
   "outputs": [],
   "source": [
    "#dcd63a4388e0c83bc908071aaef38decf37c1b1e0ab3e633c37d467f1ec6b2ad --my_data = \"The Quick Brown Fox\"\n",
    "dcd63a4388e0c83bc908071aaef38decf37c1b1e0ab3e633c37d467f1ec6b2ad\n",
    "dcd63a4388e0c83bc908071aaef38decf37c1b1e0ab3e633c37d467f1ec6b2ad\n",
    "\n",
    "#7cbd99d79ea466aac471070c47fb59b9714eed18b97ac3140b229055e72602fa --my_data = \"The Quick Brown Fox and Bear\n",
    "\n",
    "5d430b72a5cd43ed4db39fd86052973e397eb59e6d1f09d389b79c62bfd3cba7\n",
    "5d430b72a5cd43ed4db39fd86052973e397eb59e6d1f09d389b79c62bfd3cba7\n"
   ]
  },
  {
   "cell_type": "code",
   "execution_count": 22,
   "id": "38358984-7162-4434-9c97-540f65c9bbc8",
   "metadata": {},
   "outputs": [
    {
     "name": "stdout",
     "output_type": "stream",
     "text": [
      "8a1d87ccec81f80eb7ef6fd087483c74b4d43c11ef8034aa1e8f18257adc6903\n"
     ]
    }
   ],
   "source": [
    "# Imports\n",
    "from dataclasses import dataclass\n",
    "from datetime import datetime\n",
    "from typing import Any\n",
    "import hashlib\n",
    "\n",
    "# The Block class including a hash_block method\n",
    "@dataclass\n",
    "class Block:\n",
    "    data: Any\n",
    "    creator_id: int\n",
    "    timestamp: str = datetime.utcnow().strftime(\"%H:%M:%S\")\n",
    "    count: int = 0\n",
    "    def hash_block(self):\n",
    "        #instantiate sha\n",
    "        sha = hashlib.sha256()\n",
    "        #encode data\n",
    "        data = str(self.data).encode()\n",
    "        sha.update(data)\n",
    "        #encode creator\n",
    "        creator_id = str(self.creator_id).encode() \n",
    "        sha.update(creator_id)\n",
    "        #encode timestamp\n",
    "        timestamp = str(self.timestamp).encode()\n",
    "        sha.update(timestamp)\n",
    "        #print cypher\n",
    "        return sha.hexdigest()\n",
    "    def update_count(self):\n",
    "        self.count = self.count + 1\n",
    "\n",
    "# Create a new block instance using some test data\n",
    "new_block = Block(data=\"test\", creator_id=0)\n",
    "\n",
    "block_hash = new_block.hash_block()\n",
    "\n",
    "print(block_hash)\n",
    "\n",
    "@dataclass\n",
    "class Counter:\n",
    "    count: int = 0 \n",
    "    def update_count(self):\n",
    "        self.count = self.count + 1"
   ]
  },
  {
   "cell_type": "code",
   "execution_count": null,
   "id": "db17a440-0523-41f3-bdb6-baac0f858f7e",
   "metadata": {},
   "outputs": [],
   "source": []
  },
  {
   "cell_type": "code",
   "execution_count": 20,
   "id": "57787621-c850-4bb5-81d7-637f09dd6731",
   "metadata": {},
   "outputs": [
    {
     "name": "stdout",
     "output_type": "stream",
     "text": [
      "2\n"
     ]
    }
   ],
   "source": [
    "# starts our counter at zero\n",
    "new_counter = Counter()\n",
    "#what does this do? \n",
    "new_counter.update_count() ## adds 1\n",
    "new_counter.update_count() ## 2??\n",
    "#track the count\n",
    "print(new_counter.count)"
   ]
  }
 ],
 "metadata": {
  "kernelspec": {
   "display_name": "Python 3 (ipykernel)",
   "language": "python",
   "name": "python3"
  },
  "language_info": {
   "codemirror_mode": {
    "name": "ipython",
    "version": 3
   },
   "file_extension": ".py",
   "mimetype": "text/x-python",
   "name": "python",
   "nbconvert_exporter": "python",
   "pygments_lexer": "ipython3",
   "version": "3.9.10"
  }
 },
 "nbformat": 4,
 "nbformat_minor": 5
}
